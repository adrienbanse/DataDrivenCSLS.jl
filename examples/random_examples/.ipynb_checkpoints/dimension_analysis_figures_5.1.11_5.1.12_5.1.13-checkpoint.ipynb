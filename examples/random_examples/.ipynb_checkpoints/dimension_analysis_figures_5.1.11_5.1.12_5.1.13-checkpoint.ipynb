{
 "cells": [
  {
   "cell_type": "code",
   "execution_count": null,
   "metadata": {},
   "outputs": [],
   "source": [
    "include(joinpath(@__DIR__, \"../../src/DataDrivenCSLS.jl\"))\n",
    "using Main.DataDrivenCSLS"
   ]
  },
  {
   "cell_type": "markdown",
   "metadata": {},
   "source": [
    "We define \\$S(\\mathbf{G}, \\mathbf{\\Sigma}_i)\\$, \\$\\mathbf{\\Sigma}_i \\subset \\mathbb{R}^{i \\times i}\\$, with \\$i = 2, 3, 4, 5\\$ corresponding to the dimension analysis, see Appendix D. \\$\\mathbf{G}\\$ is as depicted in Figure 3.2"
   ]
  },
  {
   "cell_type": "code",
   "execution_count": null,
   "metadata": {},
   "outputs": [],
   "source": [
    "CJSR = .95\n",
    "G = LightAutomaton(2)\n",
    "add_transition!(G, 1, 1, 1)\n",
    "add_transition!(G, 1, 2, 2)\n",
    "add_transition!(G, 2, 1, 2)\n",
    "nothing"
   ]
  },
  {
   "cell_type": "markdown",
   "metadata": {},
   "source": [
    "We now define \\$\\Sigma_i\\$ for \\$i = 2, 3, 4, 5\\$."
   ]
  },
  {
   "cell_type": "code",
   "execution_count": null,
   "metadata": {},
   "outputs": [],
   "source": [
    "A1_2 = [-0.12264385232852724 -0.5132986766380205; -0.512239944583497 0.7657920763290312] \n",
    "A2_2 = [-1.0025775249390196 0.35564172966144936; -0.01094819510863365 0.5106100376225976] \n",
    "Σ_2 = [A1_2, A2_2]\n",
    "\n",
    "A1_3 = [0.09052970480096943 -0.48983627637678495 0.35393631188643254; -1.4102510663571808 -0.29603879196786076 -0.07234411571531388; -0.14141377348869863 -0.7488699937150097 0.27614247133103026]\n",
    "A2_3 = [-0.5939286228663733 0.5535426721612529 1.2248015944818176; 0.408167813638229 0.8763244470981735 0.34020098544574057; -0.6060865277042067 -0.05753029855797154 -0.5839547395592828]\n",
    "Σ_3 = [A1_3, A2_3]\n",
    "\n",
    "A1_4 = [0.4375384908998181 0.7795355770667252 -0.040099732530774146 -0.9564589786862254; -0.3584137805621985 0.5029762608178756 0.8425925749366162 0.047141361920994176; -0.2122617369439823 0.3400430543990932 -0.6193243388767498 -0.2548568896262528; -0.5348879889590828 -0.4480647159808548 0.22667437197876164 0.47926967971510176]\n",
    "A2_4 = [0.40585387400758044 -0.20768007117355278 -0.40531844944814416 0.7693763101060594; 0.3904731792448494 0.019051310534303843 -0.018487375220524044 0.8895232021535535; 1.0853492832256844 -0.5035357436868629 0.36150631725258847 -0.18468125200170102; -0.5794584798986746 -0.32184050196635594 0.3553477751497201 0.9469177219636563]\n",
    "Σ_4 = [A1_4, A2_4]\n",
    "\n",
    "A1_5 = [-0.06307480402303137 0.5280995363461506 -0.004101271836206635 -0.37531257407235774 -0.5329050052128116; -0.3465538216826522 0.16895463652750348 0.27757855949094407 -0.35499324559732354 0.9662239420459873; -0.5456706356225736 -0.20081555629274084 -0.06090206291960528 0.17685768398708618 0.4732237247613474; -0.32281209656223225 -0.029600337572470315 -0.5067884085242049 -0.7324477402283953 -0.14831802744209363; -0.1156836687582911 -0.2884286190877954 0.3393287621745705 -0.19226110081584863 -0.4235914578487072]\n",
    "A2_5 = [0.19995160026320255 0.11420853472585275 0.11894645812625691 -0.0321565153396973 -0.33414740360705303; -0.19120437801981657 0.1580328710636839 -0.024895108741009128 0.20169822805023205 0.18151280482185522; 0.19700752206599945 0.6967664962237133 0.16301825640202722 0.020859211026323963 0.5003448906619238; -0.20387169402381075 0.10646644945126305 0.5308799607574144 -0.2724196354999126 0.048406470573328295; 0.09298522902986386 -0.3208636298456948 0.6003699388837593 0.19617952171942324 0.5393599948716818]\n",
    "Σ_5 = [A1_5, A2_5]\n",
    "\n",
    "m = 2\n",
    "for Σ in [Σ_2, Σ_3, Σ_4, Σ_5]\n",
    "    for i in 1:size(Σ)[1]\n",
    "        Σ[i] *= CJSR\n",
    "    end\n",
    "end\n",
    "\n",
    "nothing"
   ]
  },
  {
   "cell_type": "code",
   "execution_count": null,
   "metadata": {},
   "outputs": [],
   "source": [
    "hs = discreteswitchedsystem(Σ_5, G)\n",
    "@show white_box_CJSR_upper_bound(hs, 2)"
   ]
  },
  {
   "cell_type": "markdown",
   "metadata": {},
   "source": [
    "For each \\$S(\\mathbf{G}, \\mathbf{\\Sigma}_i)\\$, we compute the MQLF method bounds and save them in file \\$\\texttt{res_MQLF_}i\\texttt{.txt}\\$ corresponding to dimensions of 2, 3, 4, 5."
   ]
  },
  {
   "cell_type": "code",
   "execution_count": null,
   "metadata": {},
   "outputs": [],
   "source": [
    "VERBOSE = true\n",
    "\n",
    "N = 6000\n",
    "N_step = 1000\n",
    "N_begin = 1000\n",
    "N_range = N_begin:N_step:N\n",
    "\n",
    "# Known information\n",
    "V = nstates(G)\n",
    "m = 2\n",
    "\n",
    "# Parameters\n",
    "β = .99\n",
    "β1 = (β + 1.) / 2.\n",
    "β2 = β1\n",
    "\n",
    "for Σ in [Σ_2, Σ_3, Σ_4, Σ_5]\n",
    "    dim = size(Σ[1])[1]\n",
    "    if VERBOSE @show dim end\n",
    "    total_time = 0\n",
    "\n",
    "    f = open(\"res_MQLF_$dim.txt\", \"w\")\n",
    "    println(\"Simulations start for dim = $dim\")\n",
    "    for n = N_range\n",
    "        u, v, x, y = generate_trajectories(Σ, G, n, 1)\n",
    "        y = reshape(y, size(x))\n",
    "        total_time += @elapsed lower_bound, upper_bound = bounds_MQLF(x[:, 1:n], u[1:n], y[:, 1:n], v[1:n], V, β1, β2, m)\n",
    "        println(f, \"$lower_bound $upper_bound\")\n",
    "    end\n",
    "    close(f)\n",
    "\n",
    "    if VERBOSE @show total_time end\n",
    "end"
   ]
  },
  {
   "cell_type": "markdown",
   "metadata": {},
   "source": [
    "Figures 5.11 and 5.12 can be recovered by executing the cell below"
   ]
  },
  {
   "cell_type": "code",
   "execution_count": null,
   "metadata": {},
   "outputs": [],
   "source": [
    "using DelimitedFiles\n",
    "using PyPlot\n",
    "\n",
    "N = 6000\n",
    "N_step = 1000\n",
    "N_begin = 1000\n",
    "N_range = N_begin:N_step:N\n",
    "\n",
    "colors = [\"b\", \"g\", \"r\", \"c\", \"m\", \"y\", \"orange\"]\n",
    "\n",
    "figure(figsize=(6, 4))\n",
    "axhline(CJSR, linestyle=\"--\", color=\"k\", alpha=.7, label=\"\\$\\\\rho(G, \\\\Sigma)\\$\")\n",
    "for dim in 2:5\n",
    "    data_MQLF = readdlm(\"res_MQLF_$dim.txt\")\n",
    "    keep_MQLF = map(x -> x != -1, data_MQLF[:, 2])\n",
    "    keep_MQLF = reshape(keep_MQLF, size(N_range))\n",
    "    plot(N_range[keep_MQLF], (data_MQLF[:, 2])[keep_MQLF], \"-\", color=colors[dim - 1], label=\"\\$n = $dim\\$\")\n",
    "    axhline(dim^(1/2) * CJSR, alpha=0.3, color=colors[dim - 1], linestyle=\"--\")\n",
    "end\n",
    "title(\"MQLF upper bound\")\n",
    "legend(loc=\"upper left\")\n",
    "yscale(\"log\")\n",
    "xlabel(\"Number of observations \\$N\\$\")\n",
    "margins(x=0)\n",
    "PyPlot.grid()\n",
    "show()\n",
    "savefig(\"dimension_MQLF_ub.pdf\")\n",
    "\n",
    "figure(figsize=(6, 4))\n",
    "axhline(CJSR, linestyle=\"--\", color=\"k\", alpha=.7, label=\"\\$\\\\rho(G, \\\\Sigma)\\$\")\n",
    "for dim in 2:5\n",
    "    data_MQLF = readdlm(\"res_MQLF_$dim.txt\")\n",
    "    plot(N_range, data_MQLF[:, 1], \"-\", color=colors[dim - 1], label=\"\\$n = $dim\\$\")\n",
    "end\n",
    "title(\"MQLF lower bound\")\n",
    "legend()\n",
    "yscale(\"log\")\n",
    "xlabel(\"Number of observations \\$N\\$\")\n",
    "margins(x=0)\n",
    "PyPlot.grid()\n",
    "show()\n",
    "savefig(\"dimension_MQLF_lb.pdf\")"
   ]
  },
  {
   "cell_type": "markdown",
   "metadata": {},
   "source": [
    "Now we do the same with the CQLF method: for each \\$S(\\mathbf{G}, \\mathbf{\\Sigma}_i)\\$, we compute the CQLF method bounds and save them in file \\$\\texttt{res_CQLF_}i\\texttt{.txt}\\$ corresponding to dimensions of 2, 3, 4, 5."
   ]
  },
  {
   "cell_type": "code",
   "execution_count": null,
   "metadata": {},
   "outputs": [],
   "source": [
    "N = 6000\n",
    "N_step = 1000\n",
    "N_begin = 1000\n",
    "N_range = N_begin:N_step:N\n",
    "\n",
    "# Known information\n",
    "V = nstates(G)\n",
    "m = 2\n",
    "\n",
    "# Parameters\n",
    "β = .99\n",
    "β1 = (β + 1.) / 2.\n",
    "β2 = β1\n",
    "\n",
    "l = 1\n",
    "pl_min = .25\n",
    "pl_max = .75\n",
    "quantity = 1 / pl_min\n",
    "quantity_max = 1 / pl_max\n",
    "\n",
    "for Σ in [Σ_2, Σ_3, Σ_4, Σ_5]\n",
    "    dim = size(Σ[1])[1]\n",
    "    if VERBOSE @show dim end\n",
    "    total_time = 0\n",
    "\n",
    "    f = open(\"res_CQLF_$dim.txt\", \"w\")\n",
    "    println(\"Simulations start for dim = $dim\")\n",
    "    for n = N_range\n",
    "        u, v, x, y = generate_trajectories(Σ, G, n, 1)\n",
    "        y = reshape(y, size(x))\n",
    "\n",
    "        total_time += @elapsed upper_bound = upper_bound_CQLF(x, y, β, l, quantity, quantity_max = quantity_max)     \n",
    "        println(f, \"$upper_bound\")\n",
    "    end\n",
    "    close(f)\n",
    "\n",
    "    if VERBOSE @show total_time end\n",
    "end"
   ]
  },
  {
   "cell_type": "markdown",
   "metadata": {},
   "source": [
    "And Figure 5.13 can be recovered by executing the cell below"
   ]
  },
  {
   "cell_type": "code",
   "execution_count": null,
   "metadata": {},
   "outputs": [],
   "source": [
    "m = 2\n",
    "N = 6000\n",
    "N_step = 1000\n",
    "N_begin = 1000\n",
    "N_range = N_begin:N_step:N\n",
    "figure(figsize=(6, 4))\n",
    "axhline(CJSR, linestyle=\"--\", color=\"k\", alpha=.7, label=\"\\$\\\\rho(G, \\\\Sigma)\\$\")\n",
    "axhline(m^(1/2)*CJSR, linestyle=\"--\", color=\"k\", alpha=0.3)\n",
    "for dim in 2:5\n",
    "    data_CQLF = readdlm(\"res_CQLF_$dim.txt\")\n",
    "    keep_CQLF = map(x -> x != -1, data_CQLF)\n",
    "    keep_CQLF = reshape(keep_CQLF, size(N_range))\n",
    "    plot(N_range[keep_CQLF], (data_CQLF)[keep_CQLF], \"-\", color=colors[dim - 1], label=\"\\$n = $dim\\$\")\n",
    "end\n",
    "title(\"CQLF upper bound\")\n",
    "legend()\n",
    "yscale(\"log\")\n",
    "xlabel(\"Number of observations \\$N\\$\")\n",
    "margins(x=0)\n",
    "PyPlot.grid()\n",
    "show()\n",
    "savefig(\"dimension_CQLF_ub.pdf\")"
   ]
  }
 ],
 "metadata": {
  "kernelspec": {
   "display_name": "Julia 1.6.4",
   "language": "julia",
   "name": "julia-1.6"
  },
  "language_info": {
   "file_extension": ".jl",
   "mimetype": "application/julia",
   "name": "julia",
   "version": "1.6.4"
  }
 },
 "nbformat": 4,
 "nbformat_minor": 2
}
