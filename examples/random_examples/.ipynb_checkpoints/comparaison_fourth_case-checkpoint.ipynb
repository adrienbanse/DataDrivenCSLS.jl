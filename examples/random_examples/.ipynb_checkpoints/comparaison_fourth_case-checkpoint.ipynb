{
 "cells": [
  {
   "cell_type": "code",
   "execution_count": null,
   "metadata": {},
   "outputs": [],
   "source": [
    "include(joinpath(@__DIR__, \"../../src/DataDrivenCSLS.jl\"))\n",
    "using Main.DataDrivenCSLS"
   ]
  },
  {
   "cell_type": "markdown",
   "metadata": {},
   "source": [
    "We define \\$S(G, \\mathbf{\\Sigma})\\$ corresponding to the fourth case of Figure 5.1 in Master's thesis document, Example 5.2.4."
   ]
  },
  {
   "cell_type": "code",
   "execution_count": null,
   "metadata": {},
   "outputs": [],
   "source": [
    "CJSR = 1.5\n",
    "A1 = [-0.12264385232852724 -0.5132986766380205; -0.512239944583497 0.7657920763290312] * CJSR\n",
    "A2 = [-1.0025775249390196 0.35564172966144936; -0.01094819510863365 0.5106100376225976] * CJSR\n",
    "Σ = [A1, A2]\n",
    "\n",
    "G = LightAutomaton(2)\n",
    "add_transition!(G, 1, 1, 1)\n",
    "add_transition!(G, 1, 2, 2)\n",
    "add_transition!(G, 2, 1, 2)\n",
    "hs = discreteswitchedsystem(Σ, G)\n",
    "nothing"
   ]
  },
  {
   "cell_type": "markdown",
   "metadata": {},
   "source": [
    "We compute the bounds from the MQLF method (Chapter 4) with parameters in Table 5.1. Save them in file \\$\\texttt{res_MQLF.txt}\\$"
   ]
  },
  {
   "cell_type": "code",
   "execution_count": null,
   "metadata": {},
   "outputs": [],
   "source": [
    "VERBOSE = false\n",
    "\n",
    "N = 10000\n",
    "N_step = 100\n",
    "N_begin = 100\n",
    "N_range = N_begin:N_step:N\n",
    "\n",
    "# Known information\n",
    "V = nstates(hs.automaton)\n",
    "m = size(Σ)[1]\n",
    "\n",
    "# Simulations\n",
    "u, v, x, y = generate_trajectories(Σ, G, N, 1)\n",
    "y = reshape(y, size(x))\n",
    "\n",
    "# Parameters\n",
    "β = .99\n",
    "β1 = (β + 1.) / 2.\n",
    "β2 = β1\n",
    "\n",
    "f = open(\"res_MQLF.txt\", \"w\")\n",
    "println(\"Simulations start\")\n",
    "for n = N_range\n",
    "    time = @elapsed lower_bound, upper_bound = bounds_MQLF(x[:, 1:n], u[1:n], y[:, 1:n], v[1:n], V, β1, β2, m)\n",
    "    println(f, \"$lower_bound $upper_bound\")\n",
    "    if VERBOSE println(\"(n = $n) done (in $time s): [$lower_bound, $upper_bound]\") end\n",
    "end\n",
    "close(f)\n"
   ]
  },
  {
   "cell_type": "markdown",
   "metadata": {},
   "source": [
    "We compute the bounds from the CQLF method (Chapter 3) with parameters in Table 5.1. Save them in file \\$\\texttt{res_CQLF.txt}\\$"
   ]
  },
  {
   "cell_type": "code",
   "execution_count": null,
   "metadata": {},
   "outputs": [],
   "source": [
    "VERBOSE = false\n",
    "\n",
    "l = 1\n",
    "pl_min = .25\n",
    "quantity = 1 / pl_min\n",
    "pl_max = .75\n",
    "quantity_max = 1 / pl_max\n",
    "\n",
    "u, v, x, y = generate_trajectories(Σ, G, N, l)\n",
    "y = reshape(y, size(x))                         # to change if l ≂̸ 1\n",
    "\n",
    "f = open(\"res_CQLF.txt\", \"w\")\n",
    "println(\"Simulations start\")\n",
    "for n = N_range\n",
    "    time = @elapsed upper_bound = upper_bound_CQLF(x[:, 1:n], y[:, 1:n], β, l, quantity, quantity_max = quantity_max)\n",
    "    println(f, \"$upper_bound\")\n",
    "    if VERBOSE @show upper_bound end\n",
    "end\n",
    "\n",
    "close(f)"
   ]
  },
  {
   "cell_type": "code",
   "execution_count": null,
   "metadata": {},
   "outputs": [],
   "source": [
    "We can recover Figure 5.7 by executing the cell below:"
   ]
  },
  {
   "cell_type": "code",
   "execution_count": null,
   "metadata": {},
   "outputs": [],
   "source": [
    "using DelimitedFiles\n",
    "data_CQLF = readdlm(\"res_CQLF.txt\")\n",
    "data_MQLF = readdlm(\"res_MQLF.txt\")\n",
    "\n",
    "keep = map(x -> x != -1, data_CQLF)\n",
    "keep = reshape(keep, size(N_range))\n",
    "\n",
    "using PyPlot\n",
    "figure()\n",
    "margins(x=0)\n",
    "fill_between(N_range, ones(size(N_range)), color=\"grey\", alpha = 0.3, label=\"Stability zone\")\n",
    "axhline(CJSR, linestyle=\"--\", color=\"k\", linewidth = 0.6, label=\"\\$\\\\rho(G, \\\\Sigma) = \\\\rho(\\\\Sigma)\\$\")\n",
    "plot(N_range, data_MQLF[:, 1], \"-\", label=\"MQLF lower bound\")\n",
    "plot(N_range[keep], data_CQLF[keep], \"-\",  label=\"CQLF upper bound (β = 99%)\")\n",
    "plot(N_range, data_MQLF[:, 2], \"-\", label=\"MQLF upper bound (β = 99%)\")\n",
    "xlabel(\"Number of observations \\$N\\$\")\n",
    "xscale(\"log\")\n",
    "ylim((0, 3))\n",
    "# yscale(\"log\")\n",
    "legend()\n",
    "savefig(\"comparaison_fourth_case.pdf\")"
   ]
  },
  {
   "cell_type": "code",
   "execution_count": null,
   "metadata": {},
   "outputs": [],
   "source": []
  }
 ],
 "metadata": {
  "kernelspec": {
   "display_name": "Julia 1.6.4",
   "language": "julia",
   "name": "julia-1.6"
  },
  "language_info": {
   "file_extension": ".jl",
   "mimetype": "application/julia",
   "name": "julia",
   "version": "1.6.4"
  }
 },
 "nbformat": 4,
 "nbformat_minor": 2
}
