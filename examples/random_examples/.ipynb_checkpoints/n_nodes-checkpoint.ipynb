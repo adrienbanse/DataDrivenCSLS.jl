{
 "cells": [
  {
   "cell_type": "code",
   "execution_count": null,
   "metadata": {},
   "outputs": [],
   "source": [
    "include(joinpath(@__DIR__, \"../../src/DataDrivenCSLS.jl\"))\n",
    "using Main.DataDrivenCSLS"
   ]
  },
  {
   "cell_type": "markdown",
   "metadata": {},
   "source": [
    "We define \\$S(\\mathbf{G}_i, \\mathbf{\\Sigma})\\$, $\\mathbf{G}_i$, $i = 2, 3, 4, 5$ corresponding to the number of nodes analysis, see Appendix D, $\\mathbf{G}_i$ is as depicted in Figure D.($i-1$)."
   ]
  },
  {
   "cell_type": "code",
   "execution_count": null,
   "metadata": {},
   "outputs": [],
   "source": [
    "CJSR = .95\n",
    "A1 = [-0.12264385232852724 -0.5132986766380205; -0.512239944583497 0.7657920763290312]     * CJSR\n",
    "A2 = [-1.0025775249390196 0.35564172966144936; -0.01094819510863365 0.5106100376225976]    * CJSR\n",
    "Σ = [A1, A2]\n",
    "\n",
    "G_list = []\n",
    "for V = 2:5\n",
    "    G = LightAutomaton(V)\n",
    "    add_transition!(G, 1, 1, 1)\n",
    "    for i = 1:(V - 1)\n",
    "        add_transition!(G, i, i+1, 2)\n",
    "        add_transition!(G, i+1, i, 2)\n",
    "    end\n",
    "    push!(G_list, G)\n",
    "end\n",
    "\n",
    "nothing"
   ]
  },
  {
   "cell_type": "markdown",
   "metadata": {},
   "source": [
    "For each \\$S(\\mathbf{G}_i, \\mathbf{\\Sigma})\\$, we compute the MQLF method bounds and save them in file \\$\\texttt{res_MQLF_}i\\texttt{.txt}\\$ corresponding to $|V_i| = 2, 3, 4, 5$."
   ]
  },
  {
   "cell_type": "code",
   "execution_count": null,
   "metadata": {},
   "outputs": [],
   "source": [
    "VERBOSE = true\n",
    "\n",
    "N = 6000\n",
    "N_step = 1000\n",
    "N_begin = 1000\n",
    "N_range = N_begin:N_step:N\n",
    "\n",
    "# Parameters\n",
    "β = .99\n",
    "β1 = (β + 1.) / 2.\n",
    "β2 = β1\n",
    "\n",
    "for G in G_list\n",
    "    m = size(Σ)[1]\n",
    "    dim, _ = size(Σ[1])\n",
    "\n",
    "    V = nstates(G)\n",
    "    if VERBOSE @show V end\n",
    "    total_time = 0\n",
    "\n",
    "    f = open(\"res_MQLF_$V.txt\", \"w\")\n",
    "    println(\"Simulations start for V = $V\")\n",
    "    for n = N_range\n",
    "        u, v, x, y = generate_trajectories(Σ, G, n, 1)\n",
    "        y = reshape(y, size(x))\n",
    "        total_time += @elapsed lower_bound, upper_bound = bounds_MQLF(x, u, y, v, V, β1, β2, m)\n",
    "        println(f, \"$lower_bound $upper_bound\")\n",
    "    end\n",
    "    close(f)\n",
    "\n",
    "    if VERBOSE @show total_time end\n",
    "end"
   ]
  },
  {
   "cell_type": "code",
   "execution_count": null,
   "metadata": {},
   "outputs": [],
   "source": [
    "using DelimitedFiles\n",
    "using PyPlot\n",
    "\n",
    "colors = [\"b\", \"g\", \"r\", \"c\", \"m\", \"y\", \"orange\"]\n",
    "\n",
    "figure(figsize=(6, 4))\n",
    "axhline(CJSR, linestyle=\"--\", color=\"k\", alpha=.7, label=\"\\$\\\\rho(G, \\\\Sigma)\\$\")\n",
    "for V in 2:5\n",
    "    data_MQLF = readdlm(\"res_MQLF_$V.txt\")\n",
    "    keep_MQLF = map(x -> x != -1, data_MQLF[:, 2])\n",
    "    keep_MQLF = reshape(keep_MQLF, size(N_range))\n",
    "    plot(N_range[keep_MQLF], (data_MQLF[:, 2])[keep_MQLF], \"-\", color=colors[V - 1], label=\"\\$|V| = $V\\$\")\n",
    "end\n",
    "title(\"MQLF upper bound\")\n",
    "legend()\n",
    "yscale(\"log\")\n",
    "xlabel(\"Number of observations \\$N\\$\")\n",
    "margins(x=0)\n",
    "PyPlot.grid()\n",
    "show()\n",
    "savefig(\"n_nodes_MQLF_ub.pdf\")\n",
    "\n",
    "figure(figsize=(6, 4))\n",
    "axhline(CJSR, linestyle=\"--\", color=\"k\", alpha=.7, label=\"\\$\\\\rho(G, \\\\Sigma)\\$\")\n",
    "for V in 2:5\n",
    "    data_MQLF = readdlm(\"res_MQLF_$V.txt\")\n",
    "    plot(N_range, data_MQLF[:, 1], \"-\", color=colors[V - 1], label=\"\\$|V| = $V\\$\")\n",
    "end\n",
    "title(\"MQLF lower bound\")\n",
    "legend()\n",
    "yscale(\"log\")\n",
    "xlabel(\"Number of observations \\$N\\$\")\n",
    "margins(x=0)\n",
    "PyPlot.grid()\n",
    "show()\n",
    "savefig(\"n_nodes_MQLF_lb.pdf\")"
   ]
  }
 ],
 "metadata": {
  "kernelspec": {
   "display_name": "Julia 1.6.4",
   "language": "julia",
   "name": "julia-1.6"
  },
  "language_info": {
   "file_extension": ".jl",
   "mimetype": "application/julia",
   "name": "julia",
   "version": "1.6.4"
  }
 },
 "nbformat": 4,
 "nbformat_minor": 2
}
