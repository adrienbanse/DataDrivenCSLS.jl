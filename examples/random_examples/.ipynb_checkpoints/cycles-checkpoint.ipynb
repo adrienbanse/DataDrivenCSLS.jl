{
 "cells": [
  {
   "cell_type": "code",
   "execution_count": 1,
   "metadata": {},
   "outputs": [],
   "source": [
    "include(joinpath(@__DIR__, \"../../src/DataDrivenCSLS.jl\"))\n",
    "using Main.DataDrivenCSLS"
   ]
  },
  {
   "cell_type": "markdown",
   "metadata": {},
   "source": [
    "We define $S(\\mathbf{G}, \\mathbf{\\Sigma})$ with "
   ]
  },
  {
   "cell_type": "code",
   "execution_count": 2,
   "metadata": {},
   "outputs": [
    {
     "data": {
      "text/plain": [
       "5-element Vector{Matrix{Float64}}:\n",
       " [-0.32067085838152315 -1.5768684303245364; -0.05138821539065901 0.8336164585368345]\n",
       " [-0.9023197724451177 0.3200775566953044; -0.009853375597770286 0.45954903386033785]\n",
       " [-0.747403976709632 -0.4939211709845112; -0.2765532418361834 -0.00485543396259368]\n",
       " [-0.11037946709567452 -0.4619688089742185; -0.4610159501251473 0.6892128686961281]\n",
       " [2.6713868172664035 -2.0137451274558695; 1.9543140737898361 -1.1699879715701327]"
      ]
     },
     "execution_count": 2,
     "metadata": {},
     "output_type": "execute_result"
    }
   ],
   "source": [
    "A1 = [-0.35630095375724796 -1.7520760336939292; -0.057098017100732236 0.9262405094853716]      * .9\n",
    "A2 = [-1.0025775249390196 0.35564172966144936; -0.01094819510863365 0.5106100376225976]        * .9 \n",
    "A3 = [-0.8304488630107022 -0.5488013010939014; -0.30728137981798154 -0.005394926625104089]     * .9\n",
    "A4 = [-0.12264385232852724 -0.5132986766380205; -0.512239944583497 0.7657920763290312]         * .9\n",
    "A5 = [2.968207574740448 -2.2374945860620774; 2.1714600819887067 -1.2999866350779252]           * .9\n",
    "Σ = [A1, A2, A3, A4, A5] "
   ]
  },
  {
   "cell_type": "code",
   "execution_count": 3,
   "metadata": {},
   "outputs": [],
   "source": [
    "cycle = LightAutomaton(5)\n",
    "for i = 1:5\n",
    "    add_transition!(cycle, i, (i % 5) + 1, i)\n",
    "end"
   ]
  },
  {
   "cell_type": "code",
   "execution_count": null,
   "metadata": {},
   "outputs": [],
   "source": [
    "hs = discreteswitchedsystem(Σ, cycle)\n",
    "CJSR = white_box_CJSR_upper_bound(hs, 2)\n",
    "@show CJSR"
   ]
  },
  {
   "cell_type": "code",
   "execution_count": null,
   "metadata": {},
   "outputs": [],
   "source": [
    "d_SOS = 3\n",
    "\n",
    "s = discreteswitchedsystem(Σ)\n",
    "JSR = white_box_JSR(s, d_SOS)\n",
    "@show JSR\n",
    "@show (JSR - CJSR)/CJSR\n",
    "\n",
    "Σ_2_lift = [A1*A2, A2*A3, A3*A4, A4*A5, A5*A1]\n",
    "s_2_lift = discreteswitchedsystem(Σ_2_lift)\n",
    "JSR_2_lift = white_box_JSR(s_2_lift, d_SOS)\n",
    "@show JSR_2_lift^(1/2)\n",
    "@show (JSR_2_lift^(1/2) - CJSR)/CJSR\n",
    "\n",
    "Σ_3_lift = [\n",
    "    A1*A2*A3, A2*A3*A4, A3*A4*A5, A4*A5*A1, A5*A1*A2]\n",
    "s_3_lift = discreteswitchedsystem(Σ_3_lift)\n",
    "JSR_3_lift = white_box_JSR(s_3_lift, d_SOS)\n",
    "@show JSR_3_lift^(1/3)\n",
    "@show (JSR_3_lift^(1/3) - CJSR)/CJSR\n",
    "\n",
    "Σ_4_lift = [A1*A2*A3*A4, A2*A3*A4*A5, A3*A4*A5*A1, A4*A5*A1*A2, A5*A1*A2*A3]\n",
    "s_4_lift = discreteswitchedsystem(Σ_4_lift)\n",
    "JSR_4_lift = white_box_JSR(s_4_lift, d_SOS)\n",
    "@show JSR_4_lift^(1/4)\n",
    "@show (JSR_4_lift^(1/4) - CJSR)/CJSR\n",
    "\n",
    "Σ_5_lift = [A1*A2*A3*A4*A5, A2*A3*A4*A5*A1, A3*A4*A5*A1*A2, A4*A5*A1*A2*A3, A5*A1*A2*A3*A4]\n",
    "s_5_lift = discreteswitchedsystem(Σ_5_lift)\n",
    "JSR_5_lift = white_box_JSR(s_5_lift, d_SOS)\n",
    "@show JSR_5_lift^(1/5)\n",
    "@show (JSR_5_lift^(1/5) - CJSR)/CJSR\n",
    "\n",
    "liftings = [JSR, JSR_2_lift^(1/2), JSR_3_lift^(1/3), JSR_4_lift^(1/4), JSR_5_lift^(1/5)]\n",
    "\n",
    "nothing"
   ]
  },
  {
   "cell_type": "code",
   "execution_count": null,
   "metadata": {},
   "outputs": [],
   "source": [
    "using PyPlot\n",
    "using ProgressMeter\n",
    "\n",
    "N_range = 100:1000:6100\n",
    "m = 5\n",
    "p_lmin = 1 / 5\n",
    "quantity = 1 / p_lmin\n",
    "quantity_max = quantity\n",
    "β = .95\n",
    "\n",
    "colors = [\"b\", \"g\", \"r\", \"c\", \"m\", \"y\", \"orange\"]\n",
    "\n",
    "figure(figsize=(8, 5))\n",
    "axhline(CJSR_ub, linestyle = \"--\", color = \"k\", label=\"\\$\\\\rho(G, \\\\Sigma)\\$\")\n",
    "for l = 1:5\n",
    "    display(\"== CQLF (l = $l) ==\")\n",
    "    ub_c = []\n",
    "    prog = Progress(size(N_range)[1])\n",
    "    for (i, N) in enumerate(N_range)\n",
    "        _, _, x, y = generate_trajectories(Σ, cycle, N, l)\n",
    "        y = reshape(y[:, l, :], size(x))\n",
    "        push!(ub_c, upper_bound_CQLF(x, y, β, l, quantity, quantity_max = quantity_max))\n",
    "        next!(prog)\n",
    "    end\n",
    "    keep = map(x -> x != -1, ub_c)\n",
    "    keep = reshape(keep, size(N_range))\n",
    "    axhline(liftings[l], linestyle = \"--\", alpha=0.7, color = colors[l], label=\"\\$\\\\rho(\\\\Pi_{$l})^{1/$l}\\$\")\n",
    "    plot(N_range[keep], ub_c[keep], color = colors[l], label=\"\\$l = $l\\$\")\n",
    "end\n",
    "\n",
    "title(\"CQLF upper bound\")\n",
    "xlabel(\"Number of observations \\$N\\$\")\n",
    "yscale(\"log\")\n",
    "PyPlot.grid()\n",
    "legend()\n",
    "savefig(\"cycle_5.pdf\")"
   ]
  }
 ],
 "metadata": {
  "kernelspec": {
   "display_name": "Julia 1.6.4",
   "language": "julia",
   "name": "julia-1.6"
  },
  "language_info": {
   "file_extension": ".jl",
   "mimetype": "application/julia",
   "name": "julia",
   "version": "1.6.4"
  }
 },
 "nbformat": 4,
 "nbformat_minor": 2
}
