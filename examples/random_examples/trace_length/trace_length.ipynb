{
 "cells": [
  {
   "cell_type": "code",
   "execution_count": 26,
   "metadata": {},
   "outputs": [],
   "source": [
    "using LinearAlgebra\n",
    "using SwitchOnSafety\n",
    "using ControlSystems\n",
    "using StaticArrays\n",
    "using HybridSystems\n",
    "using JuMP\n",
    "using MosekTools\n",
    "using Random\n",
    "using LightGraphs\n",
    "using SpecialFunctions\n",
    "using Arpack"
   ]
  },
  {
   "cell_type": "code",
   "execution_count": 27,
   "metadata": {},
   "outputs": [
    {
     "data": {
      "text/plain": [
       "0.95"
      ]
     },
     "metadata": {},
     "output_type": "display_data"
    }
   ],
   "source": [
    "CJSR = .95"
   ]
  },
  {
   "cell_type": "code",
   "execution_count": 28,
   "metadata": {},
   "outputs": [],
   "source": [
    "A1 = [-0.12264385232852724 -0.5132986766380205; -0.512239944583497 0.7657920763290312]     * CJSR\n",
    "A2 = [-1.0025775249390196 0.35564172966144936; -0.01094819510863365 0.5106100376225976]    * CJSR\n",
    "# A3 = [-0.35630095375724796 -1.7520760336939292; -0.057098017100732236 0.9262405094853716]  * CJSR\n",
    "# A4 = [-0.8304488630107022 -0.5488013010939014; -0.30728137981798154 -0.005394926625104089] * CJSR\n",
    "# A5 = [2.968207574740448 -2.2374945860620774; 2.1714600819887067 -1.2999866350779252]       * CJSR\n",
    "# Σ = [A1, A2, A3, A4, A5]\n",
    "Σ = [A1, A2]\n",
    "\n",
    "cycle = LightAutomaton(2)\n",
    "add_transition!(cycle, 1, 2, 1)\n",
    "add_transition!(cycle, 2, 1, 2)\n",
    "nothing"
   ]
  },
  {
   "cell_type": "code",
   "execution_count": 32,
   "metadata": {},
   "outputs": [
    {
     "data": {
      "text/plain": [
       "0.6198954485161069"
      ]
     },
     "metadata": {},
     "output_type": "display_data"
    }
   ],
   "source": [
    "hs = discreteswitchedsystem(Σ, cycle)\n",
    "include(\"../../../src/WhiteBox.jl\")\n",
    "# @show white_box_CJSR_upper_bound(hs, 2)\n",
    "\n",
    "CJSR = ρ(A1*A2)^(1/2)"
   ]
  },
  {
   "cell_type": "code",
   "execution_count": 38,
   "metadata": {},
   "outputs": [
    {
     "name": "stdout",
     "output_type": "stream",
     "text": [
      "Simulations start for l = 1\n"
     ]
    },
    {
     "name": "stdout",
     "output_type": "stream",
     "text": [
      "Simulations start for l = 2\n"
     ]
    },
    {
     "name": "stdout",
     "output_type": "stream",
     "text": [
      "Simulations start for l = 3\n"
     ]
    },
    {
     "name": "stdout",
     "output_type": "stream",
     "text": [
      "Simulations start for l = 4\n"
     ]
    },
    {
     "name": "stdout",
     "output_type": "stream",
     "text": [
      "Simulations start for l = 5\n"
     ]
    },
    {
     "name": "stdout",
     "output_type": "stream",
     "text": [
      "Simulations start for l = 6\n"
     ]
    },
    {
     "name": "stdout",
     "output_type": "stream",
     "text": [
      "Simulations start for l = 7\n"
     ]
    },
    {
     "name": "stdout",
     "output_type": "stream",
     "text": [
      "Simulations start for l = 8\n"
     ]
    }
   ],
   "source": [
    "include(\"../../../src/Bounds.jl\")\n",
    "include(\"../../../src/Trajectories.jl\")\n",
    "VERBOSE = false\n",
    "\n",
    "N = 1000\n",
    "N_step = 100\n",
    "N_begin = 10\n",
    "N_range = N_begin:N_step:N\n",
    "\n",
    "# Known information\n",
    "dim = 2\n",
    "m = 2\n",
    "V = 2\n",
    "\n",
    "# Parameters\n",
    "β = .99\n",
    "β1 = (β + 1.) / 2.\n",
    "β2 = β1\n",
    "\n",
    "for l = 1:8\n",
    "    p_l = 1 / m\n",
    "    quantity = 1 / p_l\n",
    "\n",
    "    if VERBOSE @show m end\n",
    "    total_time = 0\n",
    "\n",
    "    f = open(\"res_CQLF_$l.txt\", \"w\")\n",
    "    println(\"Simulations start for l = $l\")\n",
    "    for n = N_range\n",
    "        u, v, x, y = generate_trajectories(Σ, cycle, n, l)\n",
    "        y = reshape(y[:, l, :], size(x))\n",
    "\n",
    "        total_time += @elapsed upper_bound = upper_bound_CQLF(x, y, β, l, quantity, quantity_max = quantity)     \n",
    "        println(f, \"$upper_bound\")\n",
    "    end\n",
    "    close(f)\n",
    "\n",
    "    if VERBOSE @show total_time end\n",
    "end"
   ]
  },
  {
   "cell_type": "code",
   "execution_count": 39,
   "metadata": {},
   "outputs": [
    {
     "name": "stderr",
     "output_type": "stream",
     "text": [
      "sys:1: UserWarning: Matplotlib is currently using agg, which is a non-GUI backend, so cannot show the figure.\n"
     ]
    }
   ],
   "source": [
    "using PyPlot\n",
    "using DelimitedFiles\n",
    "\n",
    "COLORS = [\"b\", \"g\", \"r\", \"c\", \"m\", \"y\", \"orange\", \"darkviolet\"]\n",
    "\n",
    "figure(figsize=(8, 5))\n",
    "axhline(CJSR, linestyle=\"--\", color=\"k\", alpha=.7, label=\"\\$\\\\rho(G, \\\\Sigma)\\$\")\n",
    "for l = 1:8\n",
    "    data_CQLF = readdlm(\"res_CQLF_$l.txt\")\n",
    "    keep_CQLF = map(x -> x != -1, data_CQLF)\n",
    "    keep_CQLF = reshape(keep_CQLF, size(N_range))\n",
    "    plot(N_range[keep_CQLF], (data_CQLF)[keep_CQLF], \"-\", color=COLORS[l], label=\"\\$l = $l\\$\")\n",
    "end\n",
    "legend()\n",
    "title(\"CQLF upper bound\")\n",
    "# yscale(\"log\")\n",
    "xlabel(\"Number of observations \\$N\\$\")\n",
    "margins(x=0)\n",
    "PyPlot.grid()\n",
    "show()\n",
    "savefig(\"trace_length_CQLF_ub.pdf\")"
   ]
  },
  {
   "cell_type": "code",
   "execution_count": null,
   "metadata": {},
   "outputs": [],
   "source": []
  }
 ],
 "metadata": {
  "kernelspec": {
   "display_name": "Julia 1.6.4",
   "language": "julia",
   "name": "julia-1.6"
  },
  "language_info": {
   "file_extension": ".jl",
   "mimetype": "application/julia",
   "name": "julia",
   "version": "1.6.4"
  },
  "orig_nbformat": 4
 },
 "nbformat": 4,
 "nbformat_minor": 2
}
