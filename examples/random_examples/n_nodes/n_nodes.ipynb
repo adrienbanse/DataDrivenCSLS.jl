{
 "cells": [
  {
   "cell_type": "code",
   "execution_count": 2,
   "metadata": {},
   "outputs": [],
   "source": [
    "using LinearAlgebra\n",
    "using SwitchOnSafety\n",
    "using ControlSystems\n",
    "using StaticArrays\n",
    "using HybridSystems\n",
    "using JuMP\n",
    "using MosekTools\n",
    "using Random\n",
    "using LightGraphs\n",
    "using SpecialFunctions\n",
    "using Arpack"
   ]
  },
  {
   "cell_type": "code",
   "execution_count": 3,
   "metadata": {},
   "outputs": [
    {
     "data": {
      "text/plain": [
       "0.95"
      ]
     },
     "metadata": {},
     "output_type": "display_data"
    }
   ],
   "source": [
    "CJSR = .95"
   ]
  },
  {
   "cell_type": "code",
   "execution_count": 6,
   "metadata": {},
   "outputs": [],
   "source": [
    "A1 = [-0.12264385232852724 -0.5132986766380205; -0.512239944583497 0.7657920763290312]     * CJSR\n",
    "A2 = [-1.0025775249390196 0.35564172966144936; -0.01094819510863365 0.5106100376225976]    * CJSR\n",
    "Σ = [A1, A2]\n",
    "\n",
    "G_list = []\n",
    "for V = 2:5\n",
    "    G = LightAutomaton(V)\n",
    "    add_transition!(G, 1, 1, 1)\n",
    "    for i = 1:(V - 1)\n",
    "        add_transition!(G, i, i+1, 2)\n",
    "        add_transition!(G, i+1, i, 2)\n",
    "    end\n",
    "    push!(G_list, G)\n",
    "end\n",
    "\n",
    "nothing"
   ]
  },
  {
   "cell_type": "code",
   "execution_count": 7,
   "metadata": {},
   "outputs": [
    {
     "name": "stdout",
     "output_type": "stream",
     "text": [
      "V = 2\n",
      "Simulations start for V = 2\n",
      "total_time = "
     ]
    },
    {
     "name": "stdout",
     "output_type": "stream",
     "text": [
      "29.337188182000002\n",
      "V = 3\n",
      "Simulations start for V = 3\n",
      "total_time = "
     ]
    },
    {
     "name": "stdout",
     "output_type": "stream",
     "text": [
      "5.379536928\n",
      "V = 4\n",
      "Simulations start for V = 4\n",
      "total_time = "
     ]
    },
    {
     "name": "stdout",
     "output_type": "stream",
     "text": [
      "5.457524591\n",
      "V = 5\n",
      "Simulations start for V = 5\n",
      "total_time = "
     ]
    },
    {
     "name": "stdout",
     "output_type": "stream",
     "text": [
      "5.851399628\n"
     ]
    }
   ],
   "source": [
    "VERBOSE = true\n",
    "\n",
    "include(\"../../../src/Trajectories.jl\")\n",
    "include(\"../../../src/Bounds.jl\")\n",
    "\n",
    "N = 6000\n",
    "N_step = 1000\n",
    "N_begin = 1000\n",
    "N_range = N_begin:N_step:N\n",
    "\n",
    "# Parameters\n",
    "β = .99\n",
    "β1 = (β + 1.) / 2.\n",
    "β2 = β1\n",
    "\n",
    "for G in G_list\n",
    "    m = size(Σ)[1]\n",
    "    dim, _ = size(Σ[1])\n",
    "\n",
    "    V = nstates(G)\n",
    "    if VERBOSE @show V end\n",
    "    total_time = 0\n",
    "\n",
    "    f = open(\"res_MQLF_$V.txt\", \"w\")\n",
    "    println(\"Simulations start for V = $V\")\n",
    "    for n = N_range\n",
    "        u, v, x, y = generate_trajectories(Σ, G, n, 1)\n",
    "        y = reshape(y, size(x))\n",
    "        total_time += @elapsed lower_bound, upper_bound = bounds_MQLF(x, u, y, v, V, β1, β2, m)\n",
    "        println(f, \"$lower_bound $upper_bound\")\n",
    "    end\n",
    "    close(f)\n",
    "\n",
    "    if VERBOSE @show total_time end\n",
    "end"
   ]
  },
  {
   "cell_type": "code",
   "execution_count": 9,
   "metadata": {},
   "outputs": [
    {
     "name": "stderr",
     "output_type": "stream",
     "text": [
      "sys:1: UserWarning: Matplotlib is currently using agg, which is a non-GUI backend, so cannot show the figure.\n",
      "sys:1: UserWarning: Matplotlib is currently using agg, which is a non-GUI backend, so cannot show the figure.\n"
     ]
    }
   ],
   "source": [
    "using DelimitedFiles\n",
    "using PyPlot\n",
    "\n",
    "colors = [\"b\", \"g\", \"r\", \"c\", \"m\", \"y\", \"orange\"]\n",
    "\n",
    "figure(figsize=(6, 4))\n",
    "axhline(CJSR, linestyle=\"--\", color=\"k\", alpha=.7, label=\"\\$\\\\rho(G, \\\\Sigma)\\$\")\n",
    "for V in 2:5\n",
    "    data_MQLF = readdlm(\"res_MQLF_$V.txt\")\n",
    "    keep_MQLF = map(x -> x != -1, data_MQLF[:, 2])\n",
    "    keep_MQLF = reshape(keep_MQLF, size(N_range))\n",
    "    plot(N_range[keep_MQLF], (data_MQLF[:, 2])[keep_MQLF], \"-\", color=colors[V - 1], label=\"\\$|V| = $V\\$\")\n",
    "end\n",
    "title(\"MQLF upper bound\")\n",
    "legend()\n",
    "yscale(\"log\")\n",
    "xlabel(\"Number of observations \\$N\\$\")\n",
    "margins(x=0)\n",
    "PyPlot.grid()\n",
    "show()\n",
    "savefig(\"n_nodes_MQLF_ub.pdf\")\n",
    "\n",
    "figure(figsize=(6, 4))\n",
    "axhline(CJSR, linestyle=\"--\", color=\"k\", alpha=.7, label=\"\\$\\\\rho(G, \\\\Sigma)\\$\")\n",
    "for V in 2:5\n",
    "    data_MQLF = readdlm(\"res_MQLF_$V.txt\")\n",
    "    plot(N_range, data_MQLF[:, 1], \"-\", color=colors[V - 1], label=\"\\$|V| = $V\\$\")\n",
    "end\n",
    "title(\"MQLF lower bound\")\n",
    "legend()\n",
    "yscale(\"log\")\n",
    "xlabel(\"Number of observations \\$N\\$\")\n",
    "margins(x=0)\n",
    "PyPlot.grid()\n",
    "show()\n",
    "savefig(\"n_nodes_MQLF_lb.pdf\")"
   ]
  },
  {
   "cell_type": "code",
   "execution_count": null,
   "metadata": {},
   "outputs": [],
   "source": []
  }
 ],
 "metadata": {
  "kernelspec": {
   "display_name": "Julia 1.6.4",
   "language": "julia",
   "name": "julia-1.6"
  },
  "language_info": {
   "file_extension": ".jl",
   "mimetype": "application/julia",
   "name": "julia",
   "version": "1.6.4"
  },
  "orig_nbformat": 4
 },
 "nbformat": 4,
 "nbformat_minor": 2
}
