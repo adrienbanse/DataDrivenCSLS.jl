{
 "cells": [
  {
   "cell_type": "markdown",
   "metadata": {},
   "source": [
    "Inspired from https://github.com/zhemingwang/DataDrivenSwitchControl/blob/master/examples/LQRHVACexample.jl\n",
    "\n",
    "TODO: cite article"
   ]
  },
  {
   "cell_type": "code",
   "execution_count": 81,
   "metadata": {},
   "outputs": [],
   "source": [
    "using LinearAlgebra\n",
    "using SwitchOnSafety\n",
    "using ControlSystems\n",
    "using StaticArrays\n",
    "using HybridSystems\n",
    "using JuMP\n",
    "using MosekTools\n",
    "using LightGraphs\n",
    "using Random\n",
    "using SpecialFunctions"
   ]
  },
  {
   "cell_type": "code",
   "execution_count": 90,
   "metadata": {},
   "outputs": [
    {
     "data": {
      "text/plain": [
       "3-element Vector{Int64}:\n",
       " 38\n",
       " 34\n",
       " 32"
      ]
     },
     "metadata": {},
     "output_type": "display_data"
    }
   ],
   "source": [
    "dim = 3; dim_in = 3\n",
    "c = 1375\n",
    "cp = 1.012\n",
    "R12 = 1.5\n",
    "Ro12 = 3\n",
    "Ro3 = 2.7\n",
    "tau = 3 * 60\n",
    "m = 0.14\n",
    "T_target = 24\n",
    "Ts = 16\n",
    "To = 32\n",
    "q = [.1, .1, .12]\n",
    "T_0 = [38, 34, 32]"
   ]
  },
  {
   "cell_type": "code",
   "execution_count": 91,
   "metadata": {},
   "outputs": [
    {
     "data": {
      "text/plain": [
       "3×3 Matrix{Float64}:\n",
       " 0.130909  0.0       0.0\n",
       " 0.0       0.130909  0.0\n",
       " 0.0       0.0       0.130909"
      ]
     },
     "metadata": {},
     "output_type": "display_data"
    }
   ],
   "source": [
    "Σ_basis = []\n",
    "for R13 in [1.2 0.8]\n",
    "    for R23 in [1.2 0.8]\n",
    "        A = [\n",
    "            1-tau/c*(1/R12+1/R13+1/Ro12)    tau/c/R12                       tau/c/R13;\n",
    "            tau/c/R12                       1-tau/c*(1/R12+1/R23+1/Ro12)    tau/c/R23;\n",
    "            tau/c/R13                       tau/c/R23                       1-tau/c*(1/R13+1/R23+1/Ro3)\n",
    "        ]\n",
    "        push!(Σ_basis, A)\n",
    "    end\n",
    "end\n",
    "\n",
    "B = tau / c * Matrix(I, dim_in, dim_in)"
   ]
  },
  {
   "cell_type": "code",
   "execution_count": 92,
   "metadata": {},
   "outputs": [
    {
     "name": "stdout",
     "output_type": "stream",
     "text": [
      "[-3.173628107727186 -0.4840290616184256 -0.5938068329029575; -0.48402956338851133 -3.1736301683899413 -0.5938066874859529; -0.5881973278188346 -0.5881959908199936 -3.0319685343378646]\n",
      "[-3.173628107727186 0.0 -0.5938068329029575; -0.48402956338851133 0.0 -0.5938066874859529; -0.5881973278188346 0.0 -3.0319685343378646]\n",
      "[0.0 -0.4840290616184256 -0.5938068329029575; 0.0 -3.1736301683899413 -0.5938066874859529; 0.0 -0.5881959908199936 -3.0319685343378646]\n"
     ]
    }
   ],
   "source": [
    "include(\"../../src/WhiteBox.jl\")\n",
    "Q = Matrix(I, dim, dim)\n",
    "R = 0.02 * Matrix(I, dim_in, dim_in)\n",
    "K, P = white_box_LQR(Σ_basis, B, Q, R)\n",
    "\n",
    "# 1 and 2 don't work\n",
    "K0 = copy(K)\n",
    "K0[:, 1] .= 0\n",
    "K0[:, 2] .= 0\n",
    "# 1 works, 2 doesn't work\n",
    "K1 = copy(K)\n",
    "K1[:, 2] .= 0\n",
    "# 1 doesn't work, 2 works\n",
    "K2 = copy(K)\n",
    "K2[:, 1] .= 0\n",
    "\n",
    "println(K)\n",
    "println(K1)\n",
    "println(K2)"
   ]
  },
  {
   "cell_type": "code",
   "execution_count": 93,
   "metadata": {},
   "outputs": [
    {
     "data": {
      "text/plain": [
       "maps_to_σ (generic function with 1 method)"
      ]
     },
     "metadata": {},
     "output_type": "display_data"
    }
   ],
   "source": [
    "function charac_to_idx(charac)\n",
    "    if charac[1] && charac[2]\n",
    "        return 1\n",
    "    elseif charac[2]\n",
    "        return 2\n",
    "    elseif charac[1]\n",
    "        return 3\n",
    "    end\n",
    "    return 4\n",
    "end\n",
    "\n",
    "function maps_to_σ(failed, closed)\n",
    "    row_idx = charac_to_idx(failed)\n",
    "    col_idx = charac_to_idx(closed)\n",
    "    4 * (row_idx - 1) + col_idx \n",
    "end"
   ]
  },
  {
   "cell_type": "code",
   "execution_count": 94,
   "metadata": {},
   "outputs": [],
   "source": [
    "Σ_non_fail = []\n",
    "for i = 1:size(Σ_basis)[1]\n",
    "    push!(Σ_non_fail, copy(Σ_basis[i]) + B * K)\n",
    "end\n",
    "\n",
    "Σ_fail = []\n",
    "for Kσ in [K0, K1, K2, K]\n",
    "    for i = 1:size(Σ_basis)[1]\n",
    "        push!(Σ_fail, copy(Σ_basis[i]) + B * Kσ)\n",
    "    end\n",
    "end"
   ]
  },
  {
   "cell_type": "code",
   "execution_count": 95,
   "metadata": {},
   "outputs": [
    {
     "data": {
      "text/plain": [
       "HybridSystems.LightTransition{LightGraphs.SimpleGraphs.SimpleEdge{Int64}}(Edge 4 => 4, 16)"
      ]
     },
     "metadata": {},
     "output_type": "display_data"
    }
   ],
   "source": [
    "G = LightAutomaton(4)\n",
    "\n",
    "add_transition!(G, 1, 1, maps_to_σ([false, false], [true, true]))\n",
    "add_transition!(G, 1, 2, maps_to_σ([false, false], [false, true]))\n",
    "add_transition!(G, 1, 3, maps_to_σ([false, false], [true, false]))\n",
    "add_transition!(G, 1, 4, maps_to_σ([false, false], [false, false]))\n",
    "\n",
    "add_transition!(G, 2, 1, maps_to_σ([true, false], [true, true]))\n",
    "add_transition!(G, 2, 2, maps_to_σ([true, false], [false, true]))\n",
    "add_transition!(G, 2, 3, maps_to_σ([true, false], [true, false]))\n",
    "add_transition!(G, 2, 4, maps_to_σ([true, false], [false, false]))\n",
    "\n",
    "add_transition!(G, 3, 1, maps_to_σ([true, true], [true, true]))\n",
    "add_transition!(G, 3, 2, maps_to_σ([true, true], [false, true]))\n",
    "add_transition!(G, 3, 3, maps_to_σ([true, true], [true, false]))\n",
    "add_transition!(G, 3, 4, maps_to_σ([true, true], [false, false]))\n",
    "\n",
    "add_transition!(G, 4, 1, maps_to_σ([false, true], [true, true]))\n",
    "add_transition!(G, 4, 2, maps_to_σ([false, true], [false, true]))\n",
    "add_transition!(G, 4, 3, maps_to_σ([false, true], [true, false]))\n",
    "add_transition!(G, 4, 4, maps_to_σ([false, true], [false, false]))"
   ]
  },
  {
   "cell_type": "code",
   "execution_count": 96,
   "metadata": {},
   "outputs": [
    {
     "data": {
      "text/plain": [
       "generate_trajectories (generic function with 1 method)"
      ]
     },
     "metadata": {},
     "output_type": "display_data"
    }
   ],
   "source": [
    "include(\"../../src/Trajectories.jl\")"
   ]
  },
  {
   "cell_type": "code",
   "execution_count": 98,
   "metadata": {},
   "outputs": [],
   "source": [
    "N_MIN = 300\n",
    "\n",
    "total_time = N_MIN * 60\n",
    "time_range = (0:tau:total_time) ./ 60\n",
    "\n",
    "n_steps = size(time_range)[1] - 1\n",
    "\n",
    "ind_term = tau / c * (q .+ (m * cp * Ts) + (To ./ [Ro12, Ro12, Ro3]))\n",
    "\n",
    "Σ_simul = []\n",
    "for i = 1:size(Σ_basis)[1]\n",
    "    push!(Σ_simul, copy(Σ_basis[i]))\n",
    "    for j = 1:3\n",
    "        Σ_simul[i][j, j] -= tau / c * m * cp\n",
    "    end\n",
    "end\n",
    "\n",
    "using PyPlot\n",
    "colors = [\"blue\", \"red\", \"green\"]\n",
    "fig, (ax1, ax2, ax3) = plt.subplots(3, 1, figsize=(6, 6))\n",
    "ax1.set_title(\"Without LQR controller\")\n",
    "ax2.set_title(\"With non-failing LQR controller\")\n",
    "ax3.set_title(\"With failing LQR controller\")\n",
    "\n",
    "_, _, Tx, Ty = generate_trajectories(Σ_simul, nothing, 1, n_steps; x0 = T_0, ind_term = ind_term)\n",
    "_, _, x_controlled_nf, y_controlled_nf = generate_trajectories(Σ_non_fail, nothing, 1, n_steps; x0 = T_0 .- T_target)\n",
    "\n",
    "for zone = 1:dim\n",
    "    to_plot = reshape(Ty[zone, :, 1], (n_steps))\n",
    "    to_plot_controlled_nf = reshape(y_controlled_nf[zone, :, 1], (n_steps)) .+ T_target\n",
    "    pushfirst!(to_plot, Tx[zone, 1])\n",
    "    pushfirst!(to_plot_controlled_nf, x_controlled_nf[zone, 1] .+ T_target)\n",
    "    ax1.plot(time_range, to_plot, linestyle=\"-\", color=colors[zone], label=\"\\$T_{$(zone)}(t)\\$ [°C]\")\n",
    "    ax2.plot(time_range, to_plot_controlled_nf, linestyle=\"-\", color=colors[zone], label=\"\\$T_{$(zone)}(t)\\$ [°C]\")\n",
    "end\n",
    "for ax in [ax1, ax2]\n",
    "    ax.legend(fontsize=8)\n",
    "    ax.axhline(T_target, linestyle=\"--\", color=\"grey\")\n",
    "end\n",
    "\n",
    "N_simul = 20\n",
    "for i =1:N_simul\n",
    "    _, _, x_controlled_f, y_controlled_f = generate_trajectories(Σ_fail, G, 1, n_steps; x0 = T_0 .- T_target)\n",
    "    for zone = 1:dim\n",
    "        to_plot_controlled_f = reshape(y_controlled_f[zone, :, 1], (n_steps)) .+ T_target\n",
    "        pushfirst!(to_plot_controlled_f, x_controlled_f[zone, 1] .+ T_target)\n",
    "        ax3.plot(time_range, to_plot_controlled_f, linestyle=\"-\", linewidth = 0.7, alpha=0.3, color=colors[zone], label=\"\\$T_{$(zone)}(t)\\$ [°C]\")\n",
    "    end\n",
    "    if i == 1 ax3.legend(fontsize=8); ax3.axhline(T_target, linestyle=\"--\", color=\"grey\") end\n",
    "end\n",
    "\n",
    "ax3.set_xlabel(\"\\$t\\$ [min]\")\n",
    "subplots_adjust(hspace=0.4)\n",
    "savefig(\"t$(N_MIN).pdf\")"
   ]
  },
  {
   "cell_type": "code",
   "execution_count": 80,
   "metadata": {},
   "outputs": [
    {
     "name": "stdout",
     "output_type": "stream",
     "text": [
      "(β1 + β2) - 1 = 0.99\n",
      "ub_CQLF = "
     ]
    },
    {
     "name": "stdout",
     "output_type": "stream",
     "text": [
      "1.078562012723631\n"
     ]
    }
   ],
   "source": [
    "include(\"../../src/Trajectories.jl\")\n",
    "include(\"../../src/Bounds.jl\")\n",
    "N = 8000\n",
    "\n",
    "y = reshape(y, size(x))\n",
    "V = nstates(G)\n",
    "m = 16\n",
    "β = .99\n",
    "β1 = (1 + β) / 2.\n",
    "β2 = β1\n",
    "@show β1 + β2 - 1\n",
    "\n",
    "# MQLF\n",
    "u, v, x, y = generate_trajectories(Σ_fail, G, N, 1)\n",
    "y = reshape(y, size(x))\n",
    "lb_MQLF, ub_MQLF = bounds_MQLF(x, u, y, v, V, β1, β2, m)\n",
    "\n",
    "# CQLF\n",
    "l = 1\n",
    "_, _, x, y = generate_trajectories(Σ_fail, G, N, l)\n",
    "y = reshape(y[:, l, :], size(x))\n",
    "p_lmin = 1 / 16\n",
    "quantity = 1 / p_lmin\n",
    "ub_CQLF = upper_bound_CQLF(x, y, β, l, quantity; quantity_max = quantity)\n",
    "@show ub_CQLF\n",
    "\n",
    "f = open(\"res.txt\", \"a\")\n",
    "println(f, \"N = $N: MQLF says CJSR in [$lb_MQLF, $ub_MQLF], CQLF says CJSR <= $ub_CQLF\")\n",
    "close(f)\n",
    "\n",
    "nothing"
   ]
  },
  {
   "cell_type": "code",
   "execution_count": null,
   "metadata": {},
   "outputs": [],
   "source": []
  }
 ],
 "metadata": {
  "kernelspec": {
   "display_name": "Julia 1.6.4",
   "language": "julia",
   "name": "julia-1.6"
  },
  "language_info": {
   "file_extension": ".jl",
   "mimetype": "application/julia",
   "name": "julia",
   "version": "1.6.4"
  },
  "orig_nbformat": 4
 },
 "nbformat": 4,
 "nbformat_minor": 2
}
